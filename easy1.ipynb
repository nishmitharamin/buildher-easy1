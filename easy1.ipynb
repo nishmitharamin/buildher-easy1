{
 "cells": [
  {
   "cell_type": "code",
   "execution_count": 8,
   "id": "c284389f",
   "metadata": {},
   "outputs": [],
   "source": [
    "def length_of_last_word(s):\n",
    "    words = s.split()\n",
    "    if not words:\n",
    "        return 0\n",
    "    return len(words[-1])"
   ]
  },
  {
   "cell_type": "code",
   "execution_count": 9,
   "id": "92cb65ee",
   "metadata": {},
   "outputs": [
    {
     "name": "stdout",
     "output_type": "stream",
     "text": [
      "5\n"
     ]
    }
   ],
   "source": [
    "# Example 1\n",
    "s1 = \"Hello World\"\n",
    "print(length_of_last_word(s1))  # Output: 5"
   ]
  },
  {
   "cell_type": "code",
   "execution_count": 10,
   "id": "540f4c29",
   "metadata": {},
   "outputs": [
    {
     "name": "stdout",
     "output_type": "stream",
     "text": [
      "4\n"
     ]
    }
   ],
   "source": [
    "# Example 2\n",
    "s2 = \"   fly me   to   the moon  \"\n",
    "print(length_of_last_word(s2))  # Output: 4\n"
   ]
  },
  {
   "cell_type": "code",
   "execution_count": 11,
   "id": "3b54b586",
   "metadata": {},
   "outputs": [
    {
     "name": "stdout",
     "output_type": "stream",
     "text": [
      "6\n"
     ]
    }
   ],
   "source": [
    "# Example 3\n",
    "s3 = \"luffy is still joyboy\"\n",
    "print(length_of_last_word(s3))  # Output: 6"
   ]
  },
  {
   "cell_type": "code",
   "execution_count": null,
   "id": "cb873b07",
   "metadata": {},
   "outputs": [],
   "source": []
  }
 ],
 "metadata": {
  "kernelspec": {
   "display_name": "Python 3 (ipykernel)",
   "language": "python",
   "name": "python3"
  },
  "language_info": {
   "codemirror_mode": {
    "name": "ipython",
    "version": 3
   },
   "file_extension": ".py",
   "mimetype": "text/x-python",
   "name": "python",
   "nbconvert_exporter": "python",
   "pygments_lexer": "ipython3",
   "version": "3.9.13"
  }
 },
 "nbformat": 4,
 "nbformat_minor": 5
}
